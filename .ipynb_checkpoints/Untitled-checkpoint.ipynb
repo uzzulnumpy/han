{
 "cells": [
  {
   "cell_type": "code",
   "execution_count": 1,
   "id": "7ec3e4d8",
   "metadata": {},
   "outputs": [],
   "source": [
    "import math\n"
   ]
  },
  {
   "cell_type": "code",
   "execution_count": 9,
   "id": "e9718e30",
   "metadata": {},
   "outputs": [
    {
     "data": {
      "text/plain": [
       "0.8660254037844386"
      ]
     },
     "execution_count": 9,
     "metadata": {},
     "output_type": "execute_result"
    }
   ],
   "source": [
    "math.sin(math.pi/3)\n"
   ]
  },
  {
   "cell_type": "code",
   "execution_count": 10,
   "id": "af4e9f3e",
   "metadata": {
    "scrolled": true
   },
   "outputs": [
    {
     "data": {
      "text/plain": [
       "1.7320508075688767"
      ]
     },
     "execution_count": 10,
     "metadata": {},
     "output_type": "execute_result"
    }
   ],
   "source": [
    "math.tan(math.pi/3)"
   ]
  },
  {
   "cell_type": "code",
   "execution_count": 12,
   "id": "a869678f",
   "metadata": {},
   "outputs": [
    {
     "data": {
      "text/plain": [
       "1.0471975511965976"
      ]
     },
     "execution_count": 12,
     "metadata": {},
     "output_type": "execute_result"
    }
   ],
   "source": [
    "a = math.atan(math.sqrt(3))\n",
    "a*180/(math.pi)"
   ]
  },
  {
   "cell_type": "code",
   "execution_count": 14,
   "id": "94b5c6af",
   "metadata": {
    "scrolled": true
   },
   "outputs": [
    {
     "data": {
      "text/plain": [
       "59.99999999999999"
      ]
     },
     "execution_count": 14,
     "metadata": {},
     "output_type": "execute_result"
    }
   ],
   "source": [
    "math.degrees(math.atan(math.sqrt(3)))"
   ]
  },
  {
   "cell_type": "code",
   "execution_count": 15,
   "id": "193afd0d",
   "metadata": {},
   "outputs": [
    {
     "data": {
      "text/plain": [
       "59.99999999999999"
      ]
     },
     "execution_count": 15,
     "metadata": {},
     "output_type": "execute_result"
    }
   ],
   "source": [
    "a*180/(math.pi)"
   ]
  }
 ],
 "metadata": {
  "kernelspec": {
   "display_name": "Python 3 (ipykernel)",
   "language": "python",
   "name": "python3"
  },
  "language_info": {
   "codemirror_mode": {
    "name": "ipython",
    "version": 3
   },
   "file_extension": ".py",
   "mimetype": "text/x-python",
   "name": "python",
   "nbconvert_exporter": "python",
   "pygments_lexer": "ipython3",
   "version": "3.9.9"
  }
 },
 "nbformat": 4,
 "nbformat_minor": 5
}
